{
 "cells": [
  {
   "cell_type": "markdown",
   "id": "476f2c09",
   "metadata": {},
   "source": [
    "오존 미세먼지 등등"
   ]
  },
  {
   "cell_type": "code",
   "execution_count": 1,
   "id": "c4b13ffc",
   "metadata": {},
   "outputs": [],
   "source": [
    "import pandas as pd\n",
    "import numpy as np"
   ]
  },
  {
   "cell_type": "code",
   "execution_count": 2,
   "id": "e84f18e1",
   "metadata": {},
   "outputs": [],
   "source": [
    "def make_avg(csv_name):\n",
    "    csv_root = 'D:\\dev_folder\\\\data\\\\data\\\\api_data\\\\dust\\\\' + csv_name + '.csv'\n",
    "    \n",
    "    temp_dust_data = pd.read_csv(csv_root, encoding='cp949')\n",
    "    temp_dust_data = temp_dust_data[['지역', '측정일시', 'SO2', 'O3', 'NO2', 'PM10', 'PM25']]\n",
    "    temp_dust_data['시도'] = temp_dust_data.지역.str.split(' ').str[0]\n",
    "    temp_dust_data_avg = temp_dust_data.groupby(['시도','측정일시']).mean()\n",
    "    temp_dust_data_re = temp_dust_data_avg.reset_index()\n",
    "\n",
    "    return temp_dust_data_re"
   ]
  },
  {
   "cell_type": "code",
   "execution_count": 3,
   "id": "c9ceac1c",
   "metadata": {},
   "outputs": [
    {
     "name": "stdout",
     "output_type": "stream",
     "text": [
      "2014년 1분기\n",
      "2014년 2분기\n",
      "2014년 3분기\n",
      "2014년 4분기\n",
      "2015년 1분기\n",
      "2015년 2분기\n",
      "2015년 3분기\n",
      "2015년 4분기\n",
      "2016년 1분기\n",
      "2016년 2분기\n",
      "2016년 3분기\n",
      "2016년 4분기\n",
      "2017년 1월\n",
      "2017년 2월\n",
      "2017년 3월\n",
      "2017년 4월\n",
      "2017년 5월\n",
      "2017년 6월\n",
      "2017년 7월\n",
      "2017년 8월\n",
      "2017년 9월\n",
      "2017년 10월\n",
      "2017년 11월\n",
      "2017년 12월\n",
      "2018년 1분기\n",
      "2018년 2분기\n",
      "2018년 3분기\n",
      "2018년 4분기\n"
     ]
    },
    {
     "data": {
      "text/html": [
       "<div>\n",
       "<style scoped>\n",
       "    .dataframe tbody tr th:only-of-type {\n",
       "        vertical-align: middle;\n",
       "    }\n",
       "\n",
       "    .dataframe tbody tr th {\n",
       "        vertical-align: top;\n",
       "    }\n",
       "\n",
       "    .dataframe thead th {\n",
       "        text-align: right;\n",
       "    }\n",
       "</style>\n",
       "<table border=\"1\" class=\"dataframe\">\n",
       "  <thead>\n",
       "    <tr style=\"text-align: right;\">\n",
       "      <th></th>\n",
       "      <th>시도</th>\n",
       "      <th>측정일시</th>\n",
       "      <th>SO2</th>\n",
       "      <th>O3</th>\n",
       "      <th>NO2</th>\n",
       "      <th>PM10</th>\n",
       "      <th>PM25</th>\n",
       "    </tr>\n",
       "  </thead>\n",
       "  <tbody>\n",
       "    <tr>\n",
       "      <th>0</th>\n",
       "      <td>강원</td>\n",
       "      <td>2.014010e+09</td>\n",
       "      <td>0.011955</td>\n",
       "      <td>0.023000</td>\n",
       "      <td>0.016909</td>\n",
       "      <td>153.363636</td>\n",
       "      <td>NaN</td>\n",
       "    </tr>\n",
       "    <tr>\n",
       "      <th>1</th>\n",
       "      <td>강원</td>\n",
       "      <td>2.014010e+09</td>\n",
       "      <td>0.010891</td>\n",
       "      <td>0.020909</td>\n",
       "      <td>0.018564</td>\n",
       "      <td>152.636364</td>\n",
       "      <td>NaN</td>\n",
       "    </tr>\n",
       "    <tr>\n",
       "      <th>2</th>\n",
       "      <td>강원</td>\n",
       "      <td>2.014010e+09</td>\n",
       "      <td>0.010455</td>\n",
       "      <td>0.019364</td>\n",
       "      <td>0.018555</td>\n",
       "      <td>142.545455</td>\n",
       "      <td>NaN</td>\n",
       "    </tr>\n",
       "    <tr>\n",
       "      <th>3</th>\n",
       "      <td>강원</td>\n",
       "      <td>2.014010e+09</td>\n",
       "      <td>0.010073</td>\n",
       "      <td>0.018182</td>\n",
       "      <td>0.018618</td>\n",
       "      <td>131.181818</td>\n",
       "      <td>NaN</td>\n",
       "    </tr>\n",
       "    <tr>\n",
       "      <th>4</th>\n",
       "      <td>강원</td>\n",
       "      <td>2.014010e+09</td>\n",
       "      <td>0.010327</td>\n",
       "      <td>0.017273</td>\n",
       "      <td>0.018464</td>\n",
       "      <td>124.090909</td>\n",
       "      <td>NaN</td>\n",
       "    </tr>\n",
       "  </tbody>\n",
       "</table>\n",
       "</div>"
      ],
      "text/plain": [
       "   시도          측정일시       SO2        O3       NO2        PM10  PM25\n",
       "0  강원  2.014010e+09  0.011955  0.023000  0.016909  153.363636   NaN\n",
       "1  강원  2.014010e+09  0.010891  0.020909  0.018564  152.636364   NaN\n",
       "2  강원  2.014010e+09  0.010455  0.019364  0.018555  142.545455   NaN\n",
       "3  강원  2.014010e+09  0.010073  0.018182  0.018618  131.181818   NaN\n",
       "4  강원  2.014010e+09  0.010327  0.017273  0.018464  124.090909   NaN"
      ]
     },
     "execution_count": 3,
     "metadata": {},
     "output_type": "execute_result"
    }
   ],
   "source": [
    "CSV_NAMES = ['2014년 1분기', '2014년 2분기', '2014년 3분기', '2014년 4분기'\n",
    "            , '2015년 1분기', '2015년 2분기', '2015년 3분기', '2015년 4분기'\n",
    "            , '2016년 1분기', '2016년 2분기', '2016년 3분기', '2016년 4분기'\n",
    "            , '2017년 1월','2017년 2월','2017년 3월','2017년 4월'\n",
    "            , '2017년 5월','2017년 6월','2017년 7월','2017년 8월'\n",
    "            , '2017년 9월','2017년 10월','2017년 11월','2017년 12월'\n",
    "            , '2018년 1분기', '2018년 2분기', '2018년 3분기', '2018년 4분기'\n",
    "            ]\n",
    "\n",
    "df_temp = pd.DataFrame({'시도' : [], '측정일시' : [], 'SO2' : [], 'O3' : [], 'NO2' : [], 'PM10' : [], 'PM25' : [], })\n",
    "\n",
    "for name in CSV_NAMES:\n",
    "    print(name)\n",
    "    df_temp = pd.concat([df_temp, make_avg(name)], ignore_index=True)\n",
    "              \n",
    "df_temp.head()"
   ]
  },
  {
   "cell_type": "code",
   "execution_count": 4,
   "id": "cc2c66ad",
   "metadata": {},
   "outputs": [],
   "source": [
    "save_name = 'dust.csv'\n",
    "df_temp.to_csv(save_name, mode = 'w')"
   ]
  }
 ],
 "metadata": {
  "kernelspec": {
   "display_name": "Python 3",
   "language": "python",
   "name": "python3"
  },
  "language_info": {
   "codemirror_mode": {
    "name": "ipython",
    "version": 3
   },
   "file_extension": ".py",
   "mimetype": "text/x-python",
   "name": "python",
   "nbconvert_exporter": "python",
   "pygments_lexer": "ipython3",
   "version": "3.8.10"
  }
 },
 "nbformat": 4,
 "nbformat_minor": 5
}
