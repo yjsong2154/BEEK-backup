{
 "cells": [
  {
   "cell_type": "markdown",
   "id": "eff370bf",
   "metadata": {},
   "source": [
    "꽃가루 정보 수집\n",
    "\n",
    "참나무   \n",
    "http://apis.data.go.kr/1360000/HealthWthrIdxService/getOakPollenRiskIdx   \n",
    "소나무   \n",
    "http://apis.data.go.kr/1360000/HealthWthrIdxService/getPinePollenRiskIdx   \n",
    "잡초류   \n",
    "http://apis.data.go.kr/1360000/HealthWthrIdxService/getWeedsPollenRiskndx   \n",
    "    \n",
    "꽃가루 지수는 처음부터 꽃가루 측정량이 없는 예측 데이터임   \n",
    "기온 풍속등을 이용하여 산출   \n",
    "    \n",
    "참조 : https://www.weather.go.kr/plus/life/li_asset/HELP/basic/help_02_06.jsp"
   ]
  }
 ],
 "metadata": {
  "kernelspec": {
   "display_name": "Python 3",
   "language": "python",
   "name": "python3"
  },
  "language_info": {
   "codemirror_mode": {
    "name": "ipython",
    "version": 3
   },
   "file_extension": ".py",
   "mimetype": "text/x-python",
   "name": "python",
   "nbconvert_exporter": "python",
   "pygments_lexer": "ipython3",
   "version": "3.8.10"
  }
 },
 "nbformat": 4,
 "nbformat_minor": 5
}
